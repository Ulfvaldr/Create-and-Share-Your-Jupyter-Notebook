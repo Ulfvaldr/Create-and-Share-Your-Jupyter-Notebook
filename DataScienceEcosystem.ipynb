{
 "cells": [
  {
   "cell_type": "markdown",
   "id": "df0c3117-19da-47e7-ba9f-4828dcd24a5c",
   "metadata": {},
   "source": [
    "# Data Science Tools and Ecosystem"
   ]
  },
  {
   "cell_type": "markdown",
   "id": "db9cd905-05c3-4ca7-9107-0616b49792a9",
   "metadata": {},
   "source": [
    "In this notebook, Data Science Tools and Ecosystem are summarized."
   ]
  },
  {
   "cell_type": "markdown",
   "id": "1ab303d5-ccbb-40dc-9ccf-f35e076f629f",
   "metadata": {},
   "source": [
    "#### Objectives:\n",
    "   \n",
    "- Create a Jupyter Notebook\n",
    "- Create a markdown cell with a table of Data Science tools\n",
    "- List popular Libraries used by Data Scientists\n",
    "- Insert code and markdown cells\n",
    "- Share your notebook through Github"
   ]
  },
  {
   "cell_type": "markdown",
   "id": "9c11811c-803e-47e5-a1f3-0daf8b859cc5",
   "metadata": {},
   "source": [
    "Some of the popular languages that Data Scientists use are:\n",
    "\n",
    "1. Python\n",
    "2. R\n",
    "3. Julia\n",
    "4. Scala\n",
    "5. SQL"
   ]
  },
  {
   "cell_type": "markdown",
   "id": "92b50de3-a840-41cd-89e4-d1a2d8545f22",
   "metadata": {},
   "source": [
    "Some of the commonly used libraries used by Data Scientists include:\n",
    "\n",
    "1. pandas\n",
    "2. numpy\n",
    "3. matplotlib"
   ]
  },
  {
   "cell_type": "markdown",
   "id": "60b0ba74-9fa6-4d0e-b183-561c7e733fb0",
   "metadata": {},
   "source": [
    "| Data Science Tools      |\n",
    "|------------------------|\n",
    "| RStudio                |\n",
    "| Spyder                 |\n",
    "| Apache Zeppelin        |\n"
   ]
  },
  {
   "cell_type": "markdown",
   "id": "e58deb45-bb56-44fe-aff8-e84596292614",
   "metadata": {
    "tags": []
   },
   "source": [
    "### Below are a few examples of evaluating arithmetic expressions in Python"
   ]
  },
  {
   "cell_type": "code",
   "execution_count": 3,
   "id": "1d4c152a-355a-42b1-b3c7-e9a34d0ee0a0",
   "metadata": {
    "tags": []
   },
   "outputs": [
    {
     "data": {
      "text/plain": [
       "17"
      ]
     },
     "execution_count": 3,
     "metadata": {},
     "output_type": "execute_result"
    }
   ],
   "source": [
    "# This is a simple arithmetic expression to multiply then add integers\n",
    "(3*4)+5"
   ]
  },
  {
   "cell_type": "code",
   "execution_count": 5,
   "id": "0cad7c16-183f-4c68-85d4-378ca6a6f2f9",
   "metadata": {
    "tags": []
   },
   "outputs": [
    {
     "data": {
      "text/plain": [
       "3.3333333333333335"
      ]
     },
     "execution_count": 5,
     "metadata": {},
     "output_type": "execute_result"
    }
   ],
   "source": [
    "# This will convert 200 minutes to hours by diving by 60.\n",
    "minutes = 200\n",
    "hours = minutes/60\n",
    "hours"
   ]
  },
  {
   "cell_type": "markdown",
   "id": "cdbaaff6-2302-4915-ba7d-c754067ebf90",
   "metadata": {},
   "source": [
    "## Author\n",
    "Ulfvaldr"
   ]
  },
  {
   "cell_type": "code",
   "execution_count": null,
   "id": "4b209d40-1fe4-402e-aad9-20d7d237a476",
   "metadata": {},
   "outputs": [],
   "source": []
  }
 ],
 "metadata": {
  "kernelspec": {
   "display_name": "Python",
   "language": "python",
   "name": "conda-env-python-py"
  },
  "language_info": {
   "codemirror_mode": {
    "name": "ipython",
    "version": 3
   },
   "file_extension": ".py",
   "mimetype": "text/x-python",
   "name": "python",
   "nbconvert_exporter": "python",
   "pygments_lexer": "ipython3",
   "version": "3.7.12"
  }
 },
 "nbformat": 4,
 "nbformat_minor": 5
}
